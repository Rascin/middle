{
 "cells": [
  {
   "cell_type": "markdown",
   "metadata": {},
   "source": [
    "## 3分钟学会Python读写MySQL数据库"
   ]
  },
  {
   "cell_type": "code",
   "execution_count": 1,
   "metadata": {},
   "outputs": [],
   "source": [
    "import db\n",
    "## 微信公众号名字：蚂蚁学Python"
   ]
  },
  {
   "cell_type": "markdown",
   "metadata": {},
   "source": [
    "### 1、查询数据列表"
   ]
  },
  {
   "cell_type": "code",
   "execution_count": 2,
   "metadata": {},
   "outputs": [
    {
     "data": {
      "text/plain": [
       "[{'id': 1,\n",
       "  'name': 'xiaoming',\n",
       "  'sex': 'man',\n",
       "  'age': 21,\n",
       "  'email': 'xiaoming@qq.com'},\n",
       " {'id': 2,\n",
       "  'name': 'xiaohong',\n",
       "  'sex': 'women',\n",
       "  'age': 22,\n",
       "  'email': 'xiaohong@qq.com'}]"
      ]
     },
     "execution_count": 2,
     "metadata": {},
     "output_type": "execute_result"
    }
   ],
   "source": [
    "query_sql = \"select * from user\"\n",
    "db.query_data(query_sql)"
   ]
  },
  {
   "cell_type": "markdown",
   "metadata": {},
   "source": [
    "### 2、新增一条数据"
   ]
  },
  {
   "cell_type": "code",
   "execution_count": 3,
   "metadata": {},
   "outputs": [],
   "source": [
    "insert_sql = \"\"\"\n",
    "        insert user (name, sex, age, email) \n",
    "        values('mayi', 'man', 20, 'mayi@qq.com')\n",
    "    \"\"\"\n",
    "db.insert_or_update_data(insert_sql)"
   ]
  },
  {
   "cell_type": "code",
   "execution_count": 4,
   "metadata": {},
   "outputs": [
    {
     "data": {
      "text/plain": [
       "[{'id': 1,\n",
       "  'name': 'xiaoming',\n",
       "  'sex': 'man',\n",
       "  'age': 21,\n",
       "  'email': 'xiaoming@qq.com'},\n",
       " {'id': 2,\n",
       "  'name': 'xiaohong',\n",
       "  'sex': 'women',\n",
       "  'age': 22,\n",
       "  'email': 'xiaohong@qq.com'},\n",
       " {'id': 3, 'name': 'mayi', 'sex': 'man', 'age': 20, 'email': 'mayi@qq.com'}]"
      ]
     },
     "execution_count": 4,
     "metadata": {},
     "output_type": "execute_result"
    }
   ],
   "source": [
    "db.query_data(query_sql)"
   ]
  },
  {
   "cell_type": "markdown",
   "metadata": {},
   "source": [
    "### 3、更新一条数据"
   ]
  },
  {
   "cell_type": "code",
   "execution_count": 5,
   "metadata": {},
   "outputs": [],
   "source": [
    "update_sql = \"update user set name='damayi' where id=3\"\n",
    "db.insert_or_update_data(update_sql)"
   ]
  },
  {
   "cell_type": "code",
   "execution_count": 6,
   "metadata": {},
   "outputs": [
    {
     "data": {
      "text/plain": [
       "[{'id': 1,\n",
       "  'name': 'xiaoming',\n",
       "  'sex': 'man',\n",
       "  'age': 21,\n",
       "  'email': 'xiaoming@qq.com'},\n",
       " {'id': 2,\n",
       "  'name': 'xiaohong',\n",
       "  'sex': 'women',\n",
       "  'age': 22,\n",
       "  'email': 'xiaohong@qq.com'},\n",
       " {'id': 3, 'name': 'damayi', 'sex': 'man', 'age': 20, 'email': 'mayi@qq.com'}]"
      ]
     },
     "execution_count": 6,
     "metadata": {},
     "output_type": "execute_result"
    }
   ],
   "source": [
    "db.query_data(query_sql)"
   ]
  },
  {
   "cell_type": "code",
   "execution_count": null,
   "metadata": {},
   "outputs": [],
   "source": []
  }
 ],
 "metadata": {
  "kernelspec": {
   "display_name": "Python 3",
   "language": "python",
   "name": "python3"
  },
  "language_info": {
   "codemirror_mode": {
    "name": "ipython",
    "version": 3
   },
   "file_extension": ".py",
   "mimetype": "text/x-python",
   "name": "python",
   "nbconvert_exporter": "python",
   "pygments_lexer": "ipython3",
   "version": "3.7.4"
  }
 },
 "nbformat": 4,
 "nbformat_minor": 2
}
